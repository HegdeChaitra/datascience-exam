{
 "cells": [
  {
   "cell_type": "markdown",
   "metadata": {
    "deletable": true,
    "editable": true
   },
   "source": [
    "<div class=\"clearfix\" style=\"padding: 10px; padding-left: 0px\">\n",
    "<a href=\"http://bombora.com\"><img src=\"https://app.box.com/shared/static/e0j9v1xjmubit0inthhgv3llwnoansjp.png\" width=\"200px\" class=\"pull-right\" style=\"display: inline-block; margin: 5px; vertical-align: middle;\"></a>\n",
    "<h1> Bombora Data Science: <br> *Interview Exam* </h1>\n",
    "</div>\n",
    "\n",
    "<img width=\"200px\" src=\"https://app.box.com/shared/static/15slg1mvjd1zldbg3xkj9picjkmhzpa5.png\">"
   ]
  },
  {
   "cell_type": "markdown",
   "metadata": {
    "deletable": true,
    "editable": true
   },
   "source": [
    "---\n",
    "# Welcome\n",
    "\n",
    "Welcome! This notebook contains interview exam questions referenced in the *Instructions* section in the `README.md`—please read that first, *before* attempting to answer questions here.\n",
    "\n",
    "<div class=\"alert alert-info\" role=\"alert\" style=\"margin: 10px\">\n",
    "<p style=\"font-weight:bold\">ADVICE</p>\n",
    "<p>*Do not* read these questions, and panic, *before* reading the instructions in `README.md`.</p>\n",
    "</div>\n",
    "\n",
    "<div class=\"alert alert-warning\" role=\"alert\" style=\"margin: 10px\">\n",
    "<p style=\"font-weight:bold\">WARNING</p>\n",
    "\n",
    "<p>If using <a href=\"https://try.jupyter.org\">try.jupyter.org</a> do not rely on the server for anything you want to last - your server will be <span style=\"font-weight:bold\">deleted after 10 minutes of inactivity</span>. Save often and rember download notebook when you step away (you can always re-upload and start again)!</p>\n",
    "</div>\n",
    "\n",
    "\n",
    "## Have fun!\n",
    "\n",
    "Regardless of outcome, getting to know you is important. Give it your best shot and we'll look forward to following up!"
   ]
  },
  {
   "cell_type": "markdown",
   "metadata": {
    "deletable": true,
    "editable": true
   },
   "source": [
    "# Exam Questions"
   ]
  },
  {
   "cell_type": "markdown",
   "metadata": {
    "deletable": true,
    "editable": true
   },
   "source": [
    "## 1. Algo + Data Structures"
   ]
  },
  {
   "cell_type": "markdown",
   "metadata": {
    "deletable": true,
    "editable": true
   },
   "source": [
    "### Q 1.1: Fibionacci\n",
    "![fib image](https://upload.wikimedia.org/wikipedia/commons/thumb/9/93/Fibonacci_spiral_34.svg/200px-Fibonacci_spiral_34.svg.png)"
   ]
  },
  {
   "cell_type": "markdown",
   "metadata": {
    "deletable": true,
    "editable": true
   },
   "source": [
    "#### Q 1.1.1\n",
    "Given $n$ where $n \\in \\mathbb{N}$ (i.e., $n$ is an integer and $n > 0$), write a function `fibonacci(n)` that computes the Fibonacci number $F_n$, where $F_n$ is defined by the recurrence relation:\n",
    "\n",
    "$$ F_n = F_{n-1} + F_{n-2}$$\n",
    "\n",
    "with initial conditions of:\n",
    "\n",
    "$$ F_1 = 1,  F_2 = 1$$"
   ]
  },
  {
   "cell_type": "markdown",
   "metadata": {
    "deletable": true,
    "editable": true
   },
   "source": [
    "**Answer**\n",
    "\n",
    "Below is an implementation of `fibonacci(n)`. We start from the bottom and compute the fibonacci number for n iterations. This is basically how you'd do it intuitively by hand."
   ]
  },
  {
   "cell_type": "code",
   "execution_count": 34,
   "metadata": {
    "collapsed": false,
    "deletable": true,
    "editable": true
   },
   "outputs": [
    {
     "name": "stdout",
     "output_type": "stream",
     "text": [
      "The 1st Fibonacci number should be 1\n",
      "Program output for n=1: 1\n",
      "~~\n",
      "The 5th Fibonacci number should be 5\n",
      "Program output for n=5: 5\n",
      "~~\n",
      "The 100th Fibonacci number should be 354224848179261915075\n",
      "Program output for n=100: 354224848179261915075\n"
     ]
    }
   ],
   "source": [
    "#### Q 1.1.1\n",
    "\n",
    "def fibonacci(n):\n",
    "    count = 2\n",
    "    \n",
    "    fib1 = 1\n",
    "    fib2 = 1\n",
    "    \n",
    "    if n <= 2:\n",
    "        return 1\n",
    "        \n",
    "    #Loop for n times\n",
    "    while count < n:\n",
    "        #Update the two numbers\n",
    "        fib1, fib2 = fib2, fib1+fib2\n",
    "        count += 1  \n",
    "    \n",
    "    return fib2\n",
    "\n",
    "#Test Values\n",
    "print \"The 1st Fibonacci number should be 1\"\n",
    "print \"Program output for n=1: \" + str(fibonacci(1))\n",
    "print \"~~\"\n",
    "print \"The 5th Fibonacci number should be 5\"\n",
    "print \"Program output for n=5: \" + str(fibonacci(5))\n",
    "print \"~~\"\n",
    "print \"The 100th Fibonacci number should be 354224848179261915075\"\n",
    "print \"Program output for n=100: \" + str(fibonacci(100))"
   ]
  },
  {
   "cell_type": "markdown",
   "metadata": {
    "deletable": true,
    "editable": true
   },
   "source": [
    "#### Q 1.1.2\n",
    "What's the complexity of your implementation?"
   ]
  },
  {
   "cell_type": "markdown",
   "metadata": {
    "deletable": true,
    "editable": true
   },
   "source": [
    "**Answer**\n",
    "\n",
    "Since we're only doing one calculation for n steps, the **time complexity** of this implementation is:\n",
    "\n",
    "$$ O(n) $$\n",
    "\n",
    "Since the implementation only stores 3 integers in one function, the **space complexity** of this implementation is:\n",
    "\n",
    "$$ O(1) $$"
   ]
  },
  {
   "cell_type": "markdown",
   "metadata": {
    "deletable": true,
    "editable": true
   },
   "source": [
    "#### Q 1.1.3\n",
    "Consider an alternative implementation to compute Fibonacci number $F_n$ and write a new function, `fibonacci2(n)`."
   ]
  },
  {
   "cell_type": "markdown",
   "metadata": {
    "deletable": true,
    "editable": true
   },
   "source": [
    "**Answer**\n",
    "\n",
    "Alright, let's say we're having to compute fibonacci numbers over and over again. The above implementation would okay, but there must be a better way!\n",
    "\n",
    "Below is an alternative implementation to compute fibonacci numbers, `fibonacci2(n)`. This implementation employs memoization to improve the speed of computation over multiple iterations."
   ]
  },
  {
   "cell_type": "code",
   "execution_count": 35,
   "metadata": {
    "collapsed": false,
    "deletable": true,
    "editable": true
   },
   "outputs": [
    {
     "name": "stdout",
     "output_type": "stream",
     "text": [
      "The 1st Fibonacci number should be 1\n",
      "Program output for n=1: 1\n",
      "~~\n",
      "The 5th Fibonacci number should be 5\n",
      "Program output for n=5: 5\n",
      "~~\n",
      "The 100th Fibonacci number should be 354224848179261915075\n",
      "Program output for n=100: 354224848179261915075\n"
     ]
    }
   ],
   "source": [
    "#### Q 1.1.3\n",
    "\n",
    "#Dictionary of pre-computed values\n",
    "cache = {1:1, 2:1}\n",
    "\n",
    "def fibonacci2(n):\n",
    "    if n in cache.keys():\n",
    "        #If the fibonacci number is already computed,\n",
    "        #Just return that number\n",
    "        return cache[n]\n",
    "    else:\n",
    "        #Otherwise, calculate that new fibonacci number\n",
    "        fib_number = fibonacci2(n-1) + fibonacci2(n-2)\n",
    "        #Store the new number\n",
    "        cache[n] = fib_number\n",
    "        #And return it\n",
    "        return fib_number\n",
    "    \n",
    "#Test Values\n",
    "print \"The 1st Fibonacci number should be 1\"\n",
    "print \"Program output for n=1: \" + str(fibonacci2(1))\n",
    "print \"~~\"\n",
    "print \"The 5th Fibonacci number should be 5\"\n",
    "print \"Program output for n=5: \" + str(fibonacci2(5))\n",
    "print \"~~\"\n",
    "print \"The 100th Fibonacci number should be 354224848179261915075\"\n",
    "print \"Program output for n=100: \" + str(fibonacci2(100))"
   ]
  },
  {
   "cell_type": "markdown",
   "metadata": {
    "deletable": true,
    "editable": true
   },
   "source": [
    "#### Q 1.1.4\n",
    "What's the complexity of your implementation?"
   ]
  },
  {
   "cell_type": "markdown",
   "metadata": {
    "deletable": true,
    "editable": true
   },
   "source": [
    "**Answer**\n",
    "\n",
    "First, let's think about the first time we run this. Even though we make two calls for each step of the program, the cache is being updated as we work our way down to the base cases, which are n=1,2. Because of this, since we calculate `fibonacci2(n-1)` first, the result of the `fibonacci2(n-2)` call will already be stored in the cache. Thus, the **time complexity** of this implementation would also be: \n",
    "\n",
    "$$O(n)$$\n",
    "\n",
    "However, since the way we're making this implementation faster is by storing computations in a cache, that necessarily means that our space complexity is going to be large. Since we store n fibonacci numbers in the cache when we run `fibonacci(n)`, the **space complexity** of this implementation would be:\n",
    "\n",
    "$$O(n)$$\n",
    "\n",
    "*Note*:\n",
    "Consider the first implementation, `fibonacci(n)`. Both the best and worst case scenarios of that implementation are $O(n)$, which is okay because at least it has a consistent runtime.\n",
    "\n",
    "With this implementation, the worst case is again $O(n)$, but the best case is $O(1)$! This is because you could just ask for a fibonacci number that has already been computed, so you can just look it up in your cache and tada you're done! Thus, the second implementation is better for situations where you want to calculate more than one fibonacci number, because you'll be able to use of the cache."
   ]
  },
  {
   "cell_type": "markdown",
   "metadata": {
    "deletable": true,
    "editable": true
   },
   "source": [
    "#### Q 1.1.5\n",
    "What are some examples of optimizations that could improve computational performance?\n"
   ]
  },
  {
   "cell_type": "markdown",
   "metadata": {
    "deletable": true,
    "editable": true
   },
   "source": [
    "**Answer**\n",
    "\n",
    "For the first implementation, we could improve the best case scenario by using memoization and storing computed fibonacci numbers in a cache. This would would improve the best case runtime to $O(1)$, wile increasing the space complexity.\n",
    "However in this case, you'd only get to use the cache shortcut if your number is already in the cache, and not during computation. This is because if your n was larger than the highest cached fibonacci number, the algorithm would still compute all the previous fibonacci numbers, since the algorithm starts at 1.\n",
    "\n",
    "\n",
    "For the second implementation, the space complexity could be improved by using an iterative instead of recursive implementation. This would reduce the overhead of the extra function calls needed in a recursive solution.\n"
   ]
  },
  {
   "cell_type": "markdown",
   "metadata": {
    "deletable": true,
    "editable": true
   },
   "source": [
    "## 2. Prob + Stats"
   ]
  },
  {
   "cell_type": "markdown",
   "metadata": {
    "deletable": true,
    "editable": true
   },
   "source": [
    "### Q 2.5: Uber vs. Lyft\n",
    "\n",
    "![uber vs lyft](http://usiaffinity.typepad.com/.a/6a01347fc1cb08970c01bb0876bcbe970d-pi)\n",
    "\n",
    "You request 2 UberX’s and 3 Lyfts. If the time that each takes to reach you is IID, what is the probability that all the Lyfts arrive first? What is the probability that all the UberX’s arrive first?"
   ]
  },
  {
   "cell_type": "markdown",
   "metadata": {
    "deletable": true,
    "editable": true
   },
   "source": [
    "**Answer**\n",
    "\n",
    "Let's define the scenario that all the Lyfts arrive first by using the notation $LLLUU$. Similarly, the scenario that all the UberX's arrive first would be $UULLL$. \n",
    "\n",
    "Using this notation, the probability that all the Lyfts arrive first is $P(LLLUU)$, and the probability that all the UberX's arrive first is $P(UULLL)$"
   ]
  },
  {
   "cell_type": "markdown",
   "metadata": {
    "deletable": true,
    "editable": true
   },
   "source": [
    "Since the time it takes for each of the cars to arrive is independently and identically distributed, then each of the possible scenarios have the same probability. Thus:\n",
    "\n",
    "$$P(UULLL) = P(ULULL) = ... = P(LLULU) = P(LLLUU) $$"
   ]
  },
  {
   "cell_type": "markdown",
   "metadata": {
    "deletable": true,
    "editable": true
   },
   "source": [
    "Since we are only looking for the probability of one specific scenario out of the total possible scenarios, then:\n",
    "\n",
    "$$ P(LLLUU) = \\frac{LyftArrivesFirst}{TotalScenarios} = \\frac{1}{TotalScenarios} $$\n",
    "\n",
    "and similarly:\n",
    "\n",
    "$$ P(UULLL) = \\frac{UberXArrivesFirst}{TotalScenarios} = \\frac{1}{TotalScenarios} $$\n",
    "\n",
    "This is assuming that the UberX's and Lyfts are indistinguishable from each other, so that the order that the Lyfts or UberX's don't matter. The only thing that matters is which 'brand' arrives first, not which specific car."
   ]
  },
  {
   "cell_type": "markdown",
   "metadata": {
    "deletable": true,
    "editable": true
   },
   "source": [
    "Now we need to find the number of possible scenarios, or orderings for the cars to arrive in. We can do this by finding the number of permutations of two UberX's and three Lyfts."
   ]
  },
  {
   "cell_type": "code",
   "execution_count": 36,
   "metadata": {
    "collapsed": false,
    "deletable": true,
    "editable": true
   },
   "outputs": [
    {
     "name": "stdout",
     "output_type": "stream",
     "text": [
      "('L', 'L', 'L', 'U', 'U')\n",
      "('U', 'L', 'L', 'L', 'U')\n",
      "('U', 'L', 'U', 'L', 'L')\n",
      "('L', 'U', 'L', 'L', 'U')\n",
      "('U', 'L', 'L', 'U', 'L')\n",
      "('L', 'L', 'U', 'U', 'L')\n",
      "('L', 'U', 'L', 'U', 'L')\n",
      "('U', 'U', 'L', 'L', 'L')\n",
      "('L', 'L', 'U', 'L', 'U')\n",
      "('L', 'U', 'U', 'L', 'L')\n",
      "The total number of scenarios is: 10\n"
     ]
    }
   ],
   "source": [
    "from itertools import permutations\n",
    "\n",
    "#Define the baseScenario (two UberX's and three Lyfts)\n",
    "baseScenario = \"UULLL\"\n",
    "\n",
    "#Then build all the possible permutations of that scenario\n",
    "#Cast it as a set first to make sure they are all unique\n",
    "totalScenarios = list(set(permutations(baseScenario)))\n",
    "\n",
    "#Print it out to make sure everything looks good\n",
    "for scenario in totalScenarios:\n",
    "    print scenario\n",
    "\n",
    "#Print out the total number of scenarios\n",
    "print \"The total number of scenarios is: \" + str(len(totalScenarios))"
   ]
  },
  {
   "cell_type": "markdown",
   "metadata": {
    "deletable": true,
    "editable": true
   },
   "source": [
    "From running this code, we know that the number of possible scenarios is 10. We can double check this with combinatorics:\n",
    "\n",
    "$$ TotalScenarios = \\binom{NumberOfCars}{NumberOfLyfts} = \\binom{5}{3} = \\frac{5!}{3!2!} = 10  $$"
   ]
  },
  {
   "cell_type": "markdown",
   "metadata": {
    "deletable": true,
    "editable": true
   },
   "source": [
    "From this, we know that there are 10 possible scenarios for 3 Lyfts and 2 UberX's to arrive. \n",
    "\n",
    "Now, we can plug that into our previous equations to find the probability that the Lyfts arrive first:\n",
    "\n",
    "$$ P(LLLUU) = \\frac{LyftArrivesFirst}{TotalScenarios} = \\frac{1}{10} $$\n",
    "\n",
    "And then we can find the probability that the UberX's arrive first:\n",
    "\n",
    "$$ P(UULLL) = \\frac{UberXArrivesFirst}{TotalScenarios} = \\frac{1}{10} $$"
   ]
  },
  {
   "cell_type": "markdown",
   "metadata": {
    "deletable": true,
    "editable": true
   },
   "source": [
    "Double checking our answers, they do make sense with our previous idea that every single scenario should have the same probability as every other one, because they are are independently and identically distributed."
   ]
  },
  {
   "cell_type": "markdown",
   "metadata": {
    "deletable": true,
    "editable": true
   },
   "source": [
    "*So! After all that we finally have our answer!*\n",
    "\n",
    "**The probability that all the UberX's will arrive first is $\\frac{1}{10}$**\n",
    "\n",
    "**The probability that all the Lyfts will arrive first is $\\frac{1}{10}$**"
   ]
  }
 ],
 "metadata": {
  "kernelspec": {
   "display_name": "Python 2",
   "language": "python",
   "name": "python2"
  },
  "language_info": {
   "codemirror_mode": {
    "name": "ipython",
    "version": 2
   },
   "file_extension": ".py",
   "mimetype": "text/x-python",
   "name": "python",
   "nbconvert_exporter": "python",
   "pygments_lexer": "ipython2",
   "version": "2.7.12"
  }
 },
 "nbformat": 4,
 "nbformat_minor": 1
}
